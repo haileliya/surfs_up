{
 "cells": [
  {
   "cell_type": "code",
   "execution_count": 1,
   "id": "21125297",
   "metadata": {},
   "outputs": [],
   "source": [
    "import datetime as dt\n",
    "import numpy as np\n",
    "import pandas as pd\n",
    "\n",
    "import sqlalchemy\n",
    "from sqlalchemy.ext.automap import automap_base\n",
    "from sqlalchemy.orm import Session\n",
    "from sqlalchemy import create_engine, func\n",
    "\n",
    "from flask import Flask, jsonify\n"
   ]
  },
  {
   "cell_type": "code",
   "execution_count": 2,
   "id": "b0b61cbb",
   "metadata": {},
   "outputs": [],
   "source": [
    "engine = create_engine(\"sqlite:///hawaii.sqlite\")\n"
   ]
  },
  {
   "cell_type": "code",
   "execution_count": 3,
   "id": "b216efe7",
   "metadata": {},
   "outputs": [],
   "source": [
    "Base = automap_base()\n"
   ]
  },
  {
   "cell_type": "code",
   "execution_count": 4,
   "id": "1408f2ab",
   "metadata": {},
   "outputs": [],
   "source": [
    "#Add the following code to reflect the database:\n",
    "Base.prepare(engine, reflect=True)\n"
   ]
  },
  {
   "cell_type": "code",
   "execution_count": 5,
   "id": "7cc39a65",
   "metadata": {},
   "outputs": [],
   "source": [
    "#save our references to each table\n",
    "Measurement = Base.classes.measurement\n",
    "Station = Base.classes.station"
   ]
  },
  {
   "cell_type": "code",
   "execution_count": 6,
   "id": "f2cb709b",
   "metadata": {},
   "outputs": [],
   "source": [
    "#create a session link from Python to our database\n",
    "session = Session(engine)"
   ]
  },
  {
   "cell_type": "code",
   "execution_count": 7,
   "id": "a9489e31",
   "metadata": {},
   "outputs": [],
   "source": [
    "#create a Flask application called \"app.\"\n",
    "app = Flask(__name__)"
   ]
  },
  {
   "cell_type": "code",
   "execution_count": 11,
   "id": "2cc6196a",
   "metadata": {},
   "outputs": [],
   "source": [
    "#welcome route using the code \n",
    "#@app.route(\"/\")"
   ]
  },
  {
   "cell_type": "code",
   "execution_count": 13,
   "id": "5a60b136",
   "metadata": {},
   "outputs": [],
   "source": [
    "#create a function welcome() with a return statement\n",
    "def welcome():\n",
    "    return\n",
    "    ('''\n",
    "    Welcome to the Climate Analysis API!\n",
    "    Available Routes:\n",
    "    /api/v1.0/precipitation\n",
    "    /api/v1.0/stations\n",
    "    /api/v1.0/tobs\n",
    "    /api/v1.0/temp/start/end\n",
    "    ''')\n",
    "#add the precipitation, stations, tobs, and temp routes \n",
    "#that we'll need for this module into our return statement. We'll use f-strings to display them \n"
   ]
  },
  {
   "cell_type": "code",
   "execution_count": 14,
   "id": "370225d2",
   "metadata": {},
   "outputs": [
    {
     "ename": "SyntaxError",
     "evalue": "invalid syntax (2008775647.py, line 1)",
     "output_type": "error",
     "traceback": [
      "\u001b[0;36m  File \u001b[0;32m\"/var/folders/76/9nl36fc55_d23s_c_w4lnbww0000gn/T/ipykernel_6250/2008775647.py\"\u001b[0;36m, line \u001b[0;32m1\u001b[0m\n\u001b[0;31m    flask run\u001b[0m\n\u001b[0m            ^\u001b[0m\n\u001b[0;31mSyntaxError\u001b[0m\u001b[0;31m:\u001b[0m invalid syntax\n"
     ]
    }
   ],
   "source": [
    "flask run"
   ]
  },
  {
   "cell_type": "code",
   "execution_count": null,
   "id": "5c18b455",
   "metadata": {},
   "outputs": [],
   "source": []
  },
  {
   "cell_type": "code",
   "execution_count": null,
   "id": "703f04bb",
   "metadata": {},
   "outputs": [],
   "source": []
  }
 ],
 "metadata": {
  "kernelspec": {
   "display_name": "Python 3 (ipykernel)",
   "language": "python",
   "name": "python3"
  },
  "language_info": {
   "codemirror_mode": {
    "name": "ipython",
    "version": 3
   },
   "file_extension": ".py",
   "mimetype": "text/x-python",
   "name": "python",
   "nbconvert_exporter": "python",
   "pygments_lexer": "ipython3",
   "version": "3.7.11"
  }
 },
 "nbformat": 4,
 "nbformat_minor": 5
}
